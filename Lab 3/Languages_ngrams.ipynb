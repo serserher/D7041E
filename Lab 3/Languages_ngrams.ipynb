{
 "cells": [
  {
   "cell_type": "code",
   "execution_count": 1,
   "metadata": {},
   "outputs": [
    {
     "name": "stderr",
     "output_type": "stream",
     "text": [
      "C:\\Users\\sexysehe\\AppData\\Local\\Temp\\ipykernel_16460\\2071213570.py:18: DeprecationWarning: Conversion of an array with ndim > 0 to a scalar is deprecated, and will error in future. Ensure you extract a single element from your array before performing this operation. (Deprecated NumPy 1.25.)\n",
      "  chop_size=int(data['chop_size'])\n",
      "C:\\Users\\sexysehe\\AppData\\Local\\Temp\\ipykernel_16460\\2071213570.py:19: DeprecationWarning: Conversion of an array with ndim > 0 to a scalar is deprecated, and will error in future. Ensure you extract a single element from your array before performing this operation. (Deprecated NumPy 1.25.)\n",
      "  exm_size=int(data['exm_size'])\n"
     ]
    }
   ],
   "source": [
    "import numpy as np\n",
    "import scipy.io\n",
    "import itertools # for generting all possible n-grams\n",
    "import sklearn.metrics\n",
    "import os \n",
    "#for visualization\n",
    "import seaborn as sn\n",
    "import pandas as pd\n",
    "import matplotlib.pyplot as plt\n",
    "\n",
    "n_g=2 # n-gram size\n",
    "data = scipy.io.loadmat('languages_data.mat')\n",
    "alphabet=(data['alphabet'])\n",
    "alphabet=str(alphabet[0]) # turn into string\n",
    "N_GRAMS=[p for p in itertools.product(alphabet, repeat=n_g)] # get all possible n-grams\n",
    "\n",
    "# get data from the file\n",
    "chop_size=int(data['chop_size'])\n",
    "exm_size=int(data['exm_size'])\n",
    "langLabels=(data['langLabels'])\n",
    "testing=(data['testing'])\n",
    "training=(data['training'])\n",
    "\n",
    "\n"
   ]
  },
  {
   "cell_type": "markdown",
   "metadata": {},
   "source": [
    "## Process files from 21 languages"
   ]
  },
  {
   "cell_type": "code",
   "execution_count": 22,
   "metadata": {},
   "outputs": [],
   "source": [
    "import string\n",
    "import unicodedata\n",
    "import re\n",
    "#create a function to preprocess the sentences\n",
    "def preprocess_sentence(sentence):\n",
    "    # Lowercasing\n",
    "    sentence = sentence.lower()\n",
    "\n",
    "    # Remove Numbers\n",
    "    sentence = ''.join(char for char in sentence if not char.isdigit())\n",
    "\n",
    "    # Remove Punctuation\n",
    "    sentence = ''.join(char for char in sentence if char not in string.punctuation)\n",
    "\n",
    "    #Remove special characters\n",
    "    sentence = ''.join(char for char in sentence if char.isalnum() or char.isspace())\n",
    "\n",
    "    #Some characters are not considered digits nor letters such as ¼, so we use another condition\n",
    "    unwanted_characters = ['¼','½','¾']\n",
    "    sentence = ''.join(char for char in sentence if char not in  unwanted_characters )\n",
    "\n",
    "\n",
    "    return sentence\n",
    "\n",
    "\n",
    "#folder path with all the files\n",
    "from pathlib import Path\n",
    "parent_dir_sentences = \"./sentences/\"\n",
    "own_training_data = {}\n",
    "own_training_data[\"labels\"] = []\n",
    "own_training_data[\"sentences\"] = [\"\"]*21\n",
    "\n",
    "for (i,path) in enumerate(os.listdir(parent_dir_sentences)):\n",
    "    #for good measure we check if what we are iterating is a file (we know all of them are but this is good measure)\n",
    "    if os.path.isfile(os.path.join(parent_dir_sentences, path)):\n",
    "        own_training_data[\"labels\"].append((Path(path).stem))\n",
    "        with open(os.path.join(parent_dir_sentences, path), \"r\", encoding=\"utf-8\") as my_file_read:\n",
    "            for line in my_file_read:\n",
    "                index, content = line.strip().split('\\t')\n",
    "                if int(index) >= 100:\n",
    "                    continue\n",
    "                sentence = preprocess_sentence(content)\n",
    "                own_training_data[\"sentences\"][i] += sentence\n",
    "    \n",
    "\n"
   ]
  },
  {
   "cell_type": "code",
   "execution_count": 29,
   "metadata": {},
   "outputs": [
    {
     "name": "stdout",
     "output_type": "stream",
     "text": [
      " пъти позле е към момента кирил петков сравнен с бойко борисов  по кадастралната карта и кадастралните регистри на с изгрев общ ти си тъпак мм е големината на нимфата като се нахрани става  пъти поголяма за комунистите които изкрадоха цяла българия и кусур милиона за тия куци коне ли ве  лв е приблизителната стойност на средното ниво на прага за регистрация в ес и ек няма да има основание да откаже аргументира се мартин димитров дипломи е семейната шега относно навика на величка да се връща към учебниците години покъсно будителството продължава да е силата с която просветителите разпалват искрата за знание във всеки от нас изтъкна премиерът донев грама мир са много повече от тонове оръжия по време на война добавя мамалев цитирайки еврейска поговорка дни безпрецедентен комплекс от кризи и множество предприети от държавата действия компенсация за бизнеса е безсмисленапроцентовата подкрепа на българската държава към украйна е факт пъти да имах възможност да върна времето назад  пъти щях да взема същото решение съм сигурен че той няма да използва лихвените проценти като инструмент казва йозлем деричи сенгул от spinn консултантска компания в истанбул това е вярно хил лева е една добра сума която да се инвестира за да остава значителна част от нея за реално вложение след таксите за управление но дори и със  лв човек може да инвестира подчертава той ще има протести и този път няма да са мирни изложители ще ви помагат с усмивка на лице да решите сполучливо въпроса на кого какво да подаря каба гайди ще звучат на  септември месеца промяната продължава за съжаление  с негативни рекорди и тренд милиона изчезват от джоба на хората от бензина и нафтата казва борисов огнян донев председател на съвета на директорите на софарма евро е цената на първа копка на точно тези сгради които в момента се строят и са в основите все още  млн лв  за увеличаване средно с   на стандартите за финансиране на социалните услуги в тч във връзка с ефекта от увеличаване на минималната работна заплата считано от  април  г гласа вече са били осигурени годишното безпрецедентно и лишено от всякакво основание блокиране на присъединяването на двете страни от съвета на ес и специално от нидерландия трябва да бъде прекратено от  г е отменена  спиране на производствата по одобряване на общи условия на лицензианти  електроразпределителни електроснабдителни и топлофикационни дружества паркоместа осигуряват нуждите на стадион с  хил места а не с капацитет  хил   лева в подкрепа на фондация офф медия случая които са стигнали до пощенската кутия на хамид депутати не са достатъчни трябва стабилно и работещо мнозинство б клас за мен е найдобрият клас века азбуката е нашият пазител ореолът над нас ключът към света и онзи духовен код на сътворението години бяхме държани от герб в пълна зависимост от газпром и един доставчик км крос в горатаметров електробус с  врати и  седящи места  това е найновата придобивка която ще бъде пусната по една от линиите на градския транспорт в пловдив млрд от държавните дружества се взеха за да се купи зърно млрд се взеха за да се купи зърно нарушения са константирани относно наредбата за право на достъп до медицинска помощ и избор на екип обясни доцентът лева е новата цена на газа от  януари от софийските ресторанти са пред фалит страни от европейски съюз са изцяло или отчасти откъснати от руския газ е нормална скорост за магистрала в която можеш да реагираш ако евентуално имаш проблем млнлв е недостигът към центъра за градска мобилност с новите цени на природния газ вероятно повече каза още той  инвеститорски визи на руски гражданидневната заболеваемост днес е  на   хомеостазисът държи все още души по наши данни са били улучени от куршуми и хоспитализирани млн долара в банката здрав млад  ще си купя огромна яхта години се играе един постоянен танц в който синдикатите настояват мрз да е повисока а бизнесът отвръща че това ще доведе до повишаване на безработицата минути преди инцидента съм бил на обекта и когато вече дойдохме тук стана ясно че е много сериозен удара никога не е бил psyche е астероид с диаметър  км който вероятно е бил планета и който американската космическа агенция наса ще проучи с апарат през август  г или  хиляди години човечеството е ползвало коня за основно транспортно средство  дали да го язди дали с каляска дали с каруца  невъзможност за комуникация на кевр с органите на законодателна изпълнителна и съдебна власт с всички произтичащи от неспазени законоустановени срокове последствия от задържаните са от софия а други   от други области уточни тя   лева в подкрепа на фондация редута евро е само ориентир който съществуваше като максимален предел преди  година е паралелна реалност в която можеш да бъдеш себе си и да изразиш гледната си точка компании вече са в процес на кандидатстване по нея а до  септември е крайният срок в който компаниите да подадат проектните си предложения напомни той пациенти са били неваксинирани   са били напълно ваксинирани от тях за   е съобщено за бустер ваксинация  пъзел в пъзела в пъзела заснет като красива загадка мистерия с елемент на ужас и психологически ноар допълнен от scifi в брилянтен мишмаш който се поема на един дъх  в квартал струмско предстои да стартират възобновителните дейности по сградата в кв струмско който бе засегнат от пожар в края на миналата година е средната смъртност на пациентите с covid настанени в болниците в българия през миналата година се твърди в изследването като тя се е повишила в сравнение с  г когато е била  млн лв се пренасят от бюджет в бюджет и това е крайно недостатъчно за да се овладеят посериозни свлачищни процеси посочи той година общинският съвет взима решение да се пристъпи към павиране на софийските улици е първата глобална аудиодрама на storytel от този нов тип и ще бъде разпространявана едновременно в швеция финландия дания полша холандия българия турция италия испания и мексико на джордж оруел бях чела че послужила за основа на играта биг брадъра година завари българия в много стройна организация на пласиране на цялата произведена храна г нямаше забито американско знаме в кремъл но русия загуби и се раздели с половината си територияра не е годината към която ще гледам назад с неразривно удоволствие момчета и  момичета уточни виталий кличко във видеопосланиеи ноември е български празник и той няма аналог в целия свят литър ракия излиза  лв миналата излизаше  лв милион за  дни или по  хиляди лева средно на ден ноември е български празник и той няма аналог в целия свят  при мъжете са дениел нанков мартин вълканов благовест божиновски и владислав терзиев час бяхме на  метра от границата януари  г комисията потвърждава че е срок който ние можем да постигнем лева са кубик дърва млн лв месечно са спестени от провеждането на прозрачни търгове вместо събирането на директни оферти и срещи по кабинетите хил лв помалко е получила фирмата лог сиберия която поддържа уличното осветление в северните райони на софия и за която общинския съветник бонев твърди че е  пъти поскъпи цени човека наши приятели ни дадоха идеята  защо не си направите нещо за вас година приключи изграждането на капацитета на границата г компанията депозира доклад отчет по договор за проучване в министерството на енергетиката  мълчание г украйна е измислена държава г борбата беше за човешки живот но впоследствие стана ясно че отрицателният тест не води винаги до пълно оздравяване година глобата е намалена на първо провинение  лева второ провинение  лева каза още диана русинова  г по описа на сбоп в търново образувано за престъпление по чл  ал беше година на възстановяване за фирмата  възстановяване от загубата възстановяване от хаоса след локдаунава е рекордна година в търговското ни сътрудничество но това е показател само на това което можем да постигнем заедно когато работим съвместно допълни тя г е към своя край година мина под едно ужасяващо събитие което разтърси света  войната на русия в украйна г се оказа подобра отколкото очаквахме но предизвикателствата за  г остават сложни и трудни заяви новоизбраният председател г ще бъде трудна но вероятно  г ще бъде още потрудна добави ръководителката на финансовата институция ще бъде първата година в която ние ще завършим с реален спад в цените на недвижимите имоти от заразените хора не се възтановяват напълно след първите  месеца\n"
     ]
    }
   ],
   "source": [
    "print(own_training_data[\"sentences\"][0])\n"
   ]
  },
  {
   "cell_type": "code",
   "execution_count": null,
   "metadata": {},
   "outputs": [],
   "source": [
    "# Print an example of a text in the training data\n",
    "ind=3;\n",
    "print(langLabels[0][ind])\n",
    "print(training[0][ind])\n",
    "print (chop_size)"
   ]
  },
  {
   "cell_type": "code",
   "execution_count": null,
   "metadata": {},
   "outputs": [],
   "source": [
    "# collect n-gram statitics for all training data \n",
    "TR_grams=np.zeros((len(N_GRAMS),langLabels.size), dtype='float') # initialize n-gram statistics for the  training\n",
    "\n",
    "for i in range(langLabels.size):\n",
    "    print(langLabels[0][i])\n",
    "\n",
    "    buf_chop=training[0][i] #pick the current portion\n",
    "    buf_chop=np.array2string(buf_chop) # get to string    \n",
    "    buf_chop=(buf_chop[3:len(buf_chop)-2]) # get rid of artefacts like []\n",
    "    \n",
    "    for jj in range(len(buf_chop)-(n_g-1)):        \n",
    "        ngc=buf_chop [jj:(jj+(n_g))] #pick current n-gram\n",
    "        ngc1= tuple(ngc)\n",
    "        ind_ngc=N_GRAMS.index(ngc1) # find index in  N_GRAMS\n",
    "        TR_grams[ind_ngc,i]+=1 #increment the corresponding statisticss\n",
    "\n",
    "    TR_grams[:,i]=TR_grams[:,i]/np.linalg.norm(TR_grams[:,i]) # normalize\n",
    "\n",
    "print(TR_grams[:,0])    "
   ]
  },
  {
   "cell_type": "code",
   "execution_count": null,
   "metadata": {},
   "outputs": [],
   "source": [
    "# collect n-gram statitics for all testing data \n",
    "\n",
    "\n",
    "GT = [None] * langLabels.size * exm_size   #ground truth  \n",
    "PR = [None] * langLabels.size * exm_size   #predicton\n",
    "\n",
    "for i in range(langLabels.size):    \n",
    "    for j in range(exm_size): \n",
    "        TS_gram=np.zeros((len(N_GRAMS),1), dtype='float') # initialize n-gram statistics for the  test example\n",
    "        buf_chop=testing[j][i] #pick the current portion\n",
    "        buf_chop=np.array2string(buf_chop) # get to string    \n",
    "        buf_chop=buf_chop[3:len(buf_chop)-2] # get rid of artefacts like []\n",
    "        \n",
    "        for jj in range(len(buf_chop)-(n_g-1)): \n",
    "            ngc=buf_chop [jj:(jj+(n_g))] #pick current n-gram\n",
    "            ngc= tuple(ngc)\n",
    "            ind_ngc=N_GRAMS.index(ngc) # find index in  N_GRAMS            \n",
    "            TS_gram[ind_ngc,0]+=1 #increment the corresponding statisticss\n",
    "            \n",
    "        DP=np.dot(TS_gram.transpose(),TR_grams)\n",
    "        ind=np.argmax(DP) #  index of predictd language\n",
    "        PR[ i*exm_size +j ]=np.array2string(langLabels[0][ind])\n",
    "        GT[ i*exm_size +j ]=np.array2string(langLabels[0][i]) # add ground truth"
   ]
  },
  {
   "cell_type": "code",
   "execution_count": null,
   "metadata": {},
   "outputs": [],
   "source": [
    "# accuracy \n",
    "acc=0.0\n",
    "for i in range(len(GT)):\n",
    "   acc+=(PR[i]==GT[i])\n",
    "\n",
    "acc=acc/len(GT) \n",
    "print(acc)"
   ]
  },
  {
   "cell_type": "code",
   "execution_count": null,
   "metadata": {},
   "outputs": [],
   "source": [
    "langLabels[0][1][0].tolist()\n",
    "Labels_arr=np.empty(21).astype(str)\n",
    "for i in range(21):\n",
    "    Labels_arr[i]=langLabels[0][i][0]\n",
    "    \n",
    "Labels_arr\n"
   ]
  },
  {
   "cell_type": "code",
   "execution_count": null,
   "metadata": {},
   "outputs": [],
   "source": [
    "conf_mat= sklearn.metrics.confusion_matrix(GT, PR, labels=None, sample_weight=None)\n",
    "\n",
    "#plot confusion matrix\n",
    "%matplotlib inline\n",
    "df_cm = pd.DataFrame(conf_mat, index = [i for i in Labels_arr], columns = [j for j in Labels_arr])\n",
    "plt.figure(figsize = (18,18))\n",
    "sn.heatmap(df_cm, annot=True)"
   ]
  },
  {
   "cell_type": "code",
   "execution_count": null,
   "metadata": {},
   "outputs": [],
   "source": []
  }
 ],
 "metadata": {
  "kernelspec": {
   "display_name": "Python 3",
   "language": "python",
   "name": "python3"
  },
  "language_info": {
   "codemirror_mode": {
    "name": "ipython",
    "version": 3
   },
   "file_extension": ".py",
   "mimetype": "text/x-python",
   "name": "python",
   "nbconvert_exporter": "python",
   "pygments_lexer": "ipython3",
   "version": "3.11.6"
  }
 },
 "nbformat": 4,
 "nbformat_minor": 2
}
